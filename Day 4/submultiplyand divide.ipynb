{
 "cells": [
  {
   "cell_type": "code",
   "execution_count": 2,
   "metadata": {},
   "outputs": [
    {
     "name": "stdout",
     "output_type": "stream",
     "text": [
      "enter a number 6\n",
      "enter a second number 2\n",
      "the number is less than 25 hence division 3.0\n"
     ]
    }
   ],
   "source": [
    "x=int(input(\"enter a number \"))\n",
    "y=int(input(\"enter a second number \"))\n",
    "z=x-y\n",
    "if(z>=25):\n",
    "    z=x*y\n",
    "    print(\"greater than 25 hence multiplication\",z)\n",
    "else:\n",
    "    z=x/y\n",
    "    print(\"the number is less than 25 hence division\",z)"
   ]
  },
  {
   "cell_type": "code",
   "execution_count": null,
   "metadata": {},
   "outputs": [],
   "source": []
  }
 ],
 "metadata": {
  "kernelspec": {
   "display_name": "Python 3",
   "language": "python",
   "name": "python3"
  },
  "language_info": {
   "codemirror_mode": {
    "name": "ipython",
    "version": 3
   },
   "file_extension": ".py",
   "mimetype": "text/x-python",
   "name": "python",
   "nbconvert_exporter": "python",
   "pygments_lexer": "ipython3",
   "version": "3.6.4"
  }
 },
 "nbformat": 4,
 "nbformat_minor": 2
}
