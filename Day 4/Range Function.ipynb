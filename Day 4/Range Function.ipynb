{
 "cells": [
  {
   "cell_type": "markdown",
   "metadata": {},
   "source": [
    "__RANGE__\n",
    "\n",
    "Range function returns a sequence of number ,starting from 0 by default increments by 1 stops when the given conditions is reached to a specified number.\n",
    "\n",
    "range(start,stop,step)\n",
    "\n",
    "__start__ - intger specified at which position \n",
    "__stop__ - integer specified to stop\n",
    "__step__ - integer specifing incrementation (By default is 1)"
   ]
  },
  {
   "cell_type": "code",
   "execution_count": null,
   "metadata": {},
   "outputs": [],
   "source": []
  }
 ],
 "metadata": {
  "kernelspec": {
   "display_name": "Python 3",
   "language": "python",
   "name": "python3"
  },
  "language_info": {
   "codemirror_mode": {
    "name": "ipython",
    "version": 3
   },
   "file_extension": ".py",
   "mimetype": "text/x-python",
   "name": "python",
   "nbconvert_exporter": "python",
   "pygments_lexer": "ipython3",
   "version": "3.6.4"
  }
 },
 "nbformat": 4,
 "nbformat_minor": 2
}
