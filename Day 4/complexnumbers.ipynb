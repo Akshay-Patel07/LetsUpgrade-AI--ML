{
 "cells": [
  {
   "cell_type": "code",
   "execution_count": null,
   "metadata": {},
   "outputs": [],
   "source": [
    "import cmath\n",
    "x=int(input(\"Enter the real number \"))\n",
    "y=int(input(\"Enter the img number \"))\n",
    "x1=int(input(\"Enter the real number \"))\n",
    "y1=int(input(\"Enter the img number \"))\n",
    "z=complex(x,y)\n",
    "z1=complex(x1,y1)\n",
    "z2=z+z1\n",
    "z3=z-z1\n",
    "z4=z*z1\n",
    "z5=z/z1\n",
    "print(\"addition of number \",z2.real,'+ i',z2.imag)\n",
    "print(\"Subtraction of number \",z3.real,'+ i',z3.imag)\n",
    "print(\"Multiplication of number \",z4.real,'+ i',z4.imag)\n",
    "print(\"Division of number \",z5.real,'+ i',z5.imag)\n",
    "\n"
   ]
  },
  {
   "cell_type": "code",
   "execution_count": null,
   "metadata": {},
   "outputs": [],
   "source": []
  },
  {
   "cell_type": "code",
   "execution_count": null,
   "metadata": {},
   "outputs": [],
   "source": [
    "2"
   ]
  }
 ],
 "metadata": {
  "kernelspec": {
   "display_name": "Python 3",
   "language": "python",
   "name": "python3"
  },
  "language_info": {
   "codemirror_mode": {
    "name": "ipython",
    "version": 3
   },
   "file_extension": ".py",
   "mimetype": "text/x-python",
   "name": "python",
   "nbconvert_exporter": "python",
   "pygments_lexer": "ipython3",
   "version": "3.6.4"
  }
 },
 "nbformat": 4,
 "nbformat_minor": 2
}
